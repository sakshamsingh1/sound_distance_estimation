{
 "cells": [
  {
   "cell_type": "code",
   "execution_count": 38,
   "metadata": {
    "collapsed": true
   },
   "outputs": [],
   "source": [
    "import pickle\n",
    "import numpy as np\n",
    "db_handler = open('db_config_fsd.obj','rb')\n",
    "db_config = pickle.load(db_handler)\n",
    "db_handler.close()\n",
    "_rirdata = db_config._rirdata\n",
    "room_idx = 1\n",
    "ntraj = 1\n",
    "nheight = 3\n",
    "r = _rirdata[room_idx][0][2][ntraj,nheight][0]\n",
    "dist = np.sum(np.abs(r)**2,axis=-1)**(1./2)"
   ]
  },
  {
   "cell_type": "code",
   "execution_count": 44,
   "outputs": [
    {
     "data": {
      "text/plain": "(array([1.87082869, 1.80277564]), (2, 3))"
     },
     "execution_count": 44,
     "metadata": {},
     "output_type": "execute_result"
    }
   ],
   "source": [
    "pts = [[-1.5,-0.5,-1],[1.5,1.0,0.0]]\n",
    "npts = np.array(pts)\n",
    "dist = np.sum(np.abs(npts)**2,axis=-1)**(1./2)\n",
    "dist, npts.shape"
   ],
   "metadata": {
    "collapsed": false,
    "pycharm": {
     "name": "#%%\n"
    }
   }
  },
  {
   "cell_type": "code",
   "execution_count": null,
   "outputs": [],
   "source": [],
   "metadata": {
    "collapsed": false,
    "pycharm": {
     "name": "#%%\n"
    }
   }
  }
 ],
 "metadata": {
  "kernelspec": {
   "display_name": "Python 3",
   "language": "python",
   "name": "python3"
  },
  "language_info": {
   "codemirror_mode": {
    "name": "ipython",
    "version": 2
   },
   "file_extension": ".py",
   "mimetype": "text/x-python",
   "name": "python",
   "nbconvert_exporter": "python",
   "pygments_lexer": "ipython2",
   "version": "2.7.6"
  }
 },
 "nbformat": 4,
 "nbformat_minor": 0
}