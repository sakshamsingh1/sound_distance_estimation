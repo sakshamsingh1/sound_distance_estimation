{
 "cells": [
  {
   "cell_type": "code",
   "execution_count": 1,
   "metadata": {},
   "outputs": [],
   "source": [
    "#imports\n",
    "import os\n",
    "import shutil\n",
    "import scipy.io.wavfile as wav\n",
    "from glob import glob\n",
    "from scipy import signal"
   ]
  },
  {
   "cell_type": "markdown",
   "metadata": {},
   "source": [
    "### Locata file rename"
   ]
  },
  {
   "cell_type": "code",
   "execution_count": 2,
   "metadata": {},
   "outputs": [],
   "source": [
    "#constants and variables\n",
    "metadata_path = '/vast/sk8974/experiments/dsynth/data/util_data/locata_processed/metadata/'"
   ]
  },
  {
   "cell_type": "code",
   "execution_count": 27,
   "metadata": {},
   "outputs": [],
   "source": [
    "files = os.listdir(metadata_path)\n",
    "train_split = ['1','3']"
   ]
  },
  {
   "cell_type": "code",
   "execution_count": 24,
   "metadata": {},
   "outputs": [],
   "source": [
    "# #reset\n",
    "# for file in files:\n",
    "#     os.rename(metadata_path+file, metadata_path+file[6:])"
   ]
  },
  {
   "cell_type": "code",
   "execution_count": 28,
   "metadata": {},
   "outputs": [],
   "source": [
    "for file in files:\n",
    "    task_no = file.split('_')[1][4:]\n",
    "\n",
    "    fold_no = None\n",
    "    if task_no in train_split:\n",
    "        fold_no = 1\n",
    "    else:\n",
    "        fold_no = 2    \n",
    "    \n",
    "    os.rename(metadata_path+file, f'{metadata_path}fold{fold_no}_'+file)"
   ]
  },
  {
   "cell_type": "markdown",
   "metadata": {},
   "source": [
    "### Move locata data to dcase data"
   ]
  },
  {
   "cell_type": "code",
   "execution_count": 11,
   "metadata": {},
   "outputs": [],
   "source": [
    "mic_path = '/vast/sk8974/experiments/dsynth/data/util_data/locata'\n",
    "out_path = '/vast/sk8974/experiments/dsynth/data/util_data/locata_processed/mic_data/'\n",
    "tasks = [1,3,5]\n",
    "splits = ['eval','dev']\n",
    "mic = 'eigenmike'\n",
    "\n",
    "def get_dcase_fold(task):\n",
    "    if task in [1,3]:\n",
    "        return 1\n",
    "    return 2"
   ]
  },
  {
   "cell_type": "code",
   "execution_count": 12,
   "metadata": {
    "collapsed": true
   },
   "outputs": [
    {
     "name": "stdout",
     "output_type": "stream",
     "text": [
      "fold1_eval_task1_recording14.wav:[Errno 2] No such file or directory: '/vast/sk8974/experiments/dsynth/data/util_data/locata/eval/task1/recording14/eigenmike/audio_array_eigenmike.wav'\n",
      "fold1_eval_task1_recording15.wav:[Errno 2] No such file or directory: '/vast/sk8974/experiments/dsynth/data/util_data/locata/eval/task1/recording15/eigenmike/audio_array_eigenmike.wav'\n",
      "fold1_eval_task1_recording16.wav:[Errno 2] No such file or directory: '/vast/sk8974/experiments/dsynth/data/util_data/locata/eval/task1/recording16/eigenmike/audio_array_eigenmike.wav'\n",
      "fold1_eval_task1_recording17.wav:[Errno 2] No such file or directory: '/vast/sk8974/experiments/dsynth/data/util_data/locata/eval/task1/recording17/eigenmike/audio_array_eigenmike.wav'\n",
      "fold1_eval_task1_recording18.wav:[Errno 2] No such file or directory: '/vast/sk8974/experiments/dsynth/data/util_data/locata/eval/task1/recording18/eigenmike/audio_array_eigenmike.wav'\n",
      "fold1_eval_task1_recording19.wav:[Errno 2] No such file or directory: '/vast/sk8974/experiments/dsynth/data/util_data/locata/eval/task1/recording19/eigenmike/audio_array_eigenmike.wav'\n",
      "fold1_eval_task1_recording20.wav:[Errno 2] No such file or directory: '/vast/sk8974/experiments/dsynth/data/util_data/locata/eval/task1/recording20/eigenmike/audio_array_eigenmike.wav'\n",
      "fold1_eval_task1_recording21.wav:[Errno 2] No such file or directory: '/vast/sk8974/experiments/dsynth/data/util_data/locata/eval/task1/recording21/eigenmike/audio_array_eigenmike.wav'\n",
      "fold1_eval_task1_recording22.wav:[Errno 2] No such file or directory: '/vast/sk8974/experiments/dsynth/data/util_data/locata/eval/task1/recording22/eigenmike/audio_array_eigenmike.wav'\n",
      "fold1_eval_task1_recording23.wav:[Errno 2] No such file or directory: '/vast/sk8974/experiments/dsynth/data/util_data/locata/eval/task1/recording23/eigenmike/audio_array_eigenmike.wav'\n",
      "fold1_eval_task1_recording24.wav:[Errno 2] No such file or directory: '/vast/sk8974/experiments/dsynth/data/util_data/locata/eval/task1/recording24/eigenmike/audio_array_eigenmike.wav'\n",
      "fold1_eval_task1_recording25.wav:[Errno 2] No such file or directory: '/vast/sk8974/experiments/dsynth/data/util_data/locata/eval/task1/recording25/eigenmike/audio_array_eigenmike.wav'\n",
      "fold1_eval_task1_recording26.wav:[Errno 2] No such file or directory: '/vast/sk8974/experiments/dsynth/data/util_data/locata/eval/task1/recording26/eigenmike/audio_array_eigenmike.wav'\n",
      "fold1_dev_task1_recording4.wav:[Errno 2] No such file or directory: '/vast/sk8974/experiments/dsynth/data/util_data/locata/dev/task1/recording4/eigenmike/audio_array_eigenmike.wav'\n",
      "fold1_dev_task1_recording5.wav:[Errno 2] No such file or directory: '/vast/sk8974/experiments/dsynth/data/util_data/locata/dev/task1/recording5/eigenmike/audio_array_eigenmike.wav'\n",
      "fold1_dev_task1_recording6.wav:[Errno 2] No such file or directory: '/vast/sk8974/experiments/dsynth/data/util_data/locata/dev/task1/recording6/eigenmike/audio_array_eigenmike.wav'\n",
      "fold2_eval_task5_recording10.wav:[Errno 2] No such file or directory: '/vast/sk8974/experiments/dsynth/data/util_data/locata/eval/task5/recording10/eigenmike/audio_array_eigenmike.wav'\n",
      "fold2_eval_task5_recording6.wav:[Errno 2] No such file or directory: '/vast/sk8974/experiments/dsynth/data/util_data/locata/eval/task5/recording6/eigenmike/audio_array_eigenmike.wav'\n",
      "fold2_eval_task5_recording7.wav:[Errno 2] No such file or directory: '/vast/sk8974/experiments/dsynth/data/util_data/locata/eval/task5/recording7/eigenmike/audio_array_eigenmike.wav'\n",
      "fold2_eval_task5_recording8.wav:[Errno 2] No such file or directory: '/vast/sk8974/experiments/dsynth/data/util_data/locata/eval/task5/recording8/eigenmike/audio_array_eigenmike.wav'\n",
      "fold2_eval_task5_recording9.wav:[Errno 2] No such file or directory: '/vast/sk8974/experiments/dsynth/data/util_data/locata/eval/task5/recording9/eigenmike/audio_array_eigenmike.wav'\n",
      "fold2_dev_task5_recording4.wav:[Errno 2] No such file or directory: '/vast/sk8974/experiments/dsynth/data/util_data/locata/dev/task5/recording4/eigenmike/audio_array_eigenmike.wav'\n",
      "fold2_dev_task5_recording5.wav:[Errno 2] No such file or directory: '/vast/sk8974/experiments/dsynth/data/util_data/locata/dev/task5/recording5/eigenmike/audio_array_eigenmike.wav'\n",
      "fold2_dev_task5_recording6.wav:[Errno 2] No such file or directory: '/vast/sk8974/experiments/dsynth/data/util_data/locata/dev/task5/recording6/eigenmike/audio_array_eigenmike.wav'\n"
     ]
    }
   ],
   "source": [
    "for task in tasks:\n",
    "    for split in splits:\n",
    "        rec_path = f'{mic_path}/{split}/task{task}'\n",
    "        recs = os.listdir(rec_path)\n",
    "        for rec in recs:\n",
    "            file = f'{rec_path}/{rec}/{mic}/audio_array_eigenmike.wav'\n",
    "            \n",
    "            fold_no = get_dcase_fold(task)\n",
    "            new_file_name = f'fold{fold_no}_{split}_task{task}_{rec}.wav'\n",
    "#             import pdb; pdb.set_trace()\n",
    "            try:\n",
    "                shutil.copyfile(file, out_path+new_file_name)\n",
    "            except Exception as e:\n",
    "                print(f'{new_file_name}:{e}')\n",
    "    \n",
    "    "
   ]
  },
  {
   "cell_type": "markdown",
   "metadata": {},
   "source": [
    "### rename locata names"
   ]
  },
  {
   "cell_type": "markdown",
   "metadata": {},
   "source": [
    "#### locata preprocessed"
   ]
  },
  {
   "cell_type": "code",
   "execution_count": 14,
   "metadata": {},
   "outputs": [],
   "source": [
    "base_path = \"/vast/sk8974/experiments/dsynth/data/util_data/locata_processed/\"\n",
    "metadata = base_path + 'metadata/'\n",
    "micdata = base_path + 'mic_data/'"
   ]
  },
  {
   "cell_type": "code",
   "execution_count": 15,
   "metadata": {},
   "outputs": [],
   "source": [
    "for path in [metadata, micdata]:\n",
    "    files = os.listdir(path)\n",
    "    for file in files:\n",
    "        curr_fold = file[4]\n",
    "        new_fold = None\n",
    "        if curr_fold=='1':\n",
    "            new_fold = 5\n",
    "        else:\n",
    "            new_fold = 6\n",
    "        os.rename(path+file, path+f'fold{new_fold}_{file[6:]}')"
   ]
  },
  {
   "cell_type": "markdown",
   "metadata": {},
   "source": [
    "#### locata input"
   ]
  },
  {
   "cell_type": "code",
   "execution_count": 2,
   "metadata": {},
   "outputs": [],
   "source": [
    "metadata_path = \"/vast/sk8974/experiments/dsynth/data/input/gen_dcase_and_locata/metadata_dev/locata/\"\n",
    "mic_path = \"/vast/sk8974/experiments/dsynth/data/input/gen_dcase_and_locata/mic_dev/locata/\""
   ]
  },
  {
   "cell_type": "code",
   "execution_count": 3,
   "metadata": {},
   "outputs": [],
   "source": [
    "for path in [metadata_path, mic_path]:\n",
    "    files = os.listdir(path)\n",
    "    for file in files:\n",
    "        curr_fold = file[4]\n",
    "        new_fold = None\n",
    "        if curr_fold=='1':\n",
    "            new_fold = 5\n",
    "        else:\n",
    "            new_fold = 6\n",
    "        os.rename(path+file, path+f'fold{new_fold}_{file[6:]}')"
   ]
  },
  {
   "cell_type": "markdown",
   "metadata": {},
   "source": [
    "#### locata feature"
   ]
  },
  {
   "cell_type": "code",
   "execution_count": 4,
   "metadata": {},
   "outputs": [],
   "source": [
    "base_path = '/vast/sk8974/experiments/dsynth/data/processed/dist_dcase_and_locata/'\n",
    "mic_dev = base_path+'mic_dev/'\n",
    "mic_dev_label = base_path+'mic_dev_label/'\n",
    "mic_dev_norm = base_path+'mic_dev_norm/'"
   ]
  },
  {
   "cell_type": "code",
   "execution_count": 7,
   "metadata": {},
   "outputs": [],
   "source": [
    "for path in [mic_dev, mic_dev_label, mic_dev_norm]:\n",
    "    files = os.listdir(path)\n",
    "    for file in files:\n",
    "        if 'recording' in file:\n",
    "            curr_fold = file[4]\n",
    "            new_fold = None\n",
    "            if curr_fold=='1':\n",
    "                new_fold = 5\n",
    "            else:\n",
    "                new_fold = 6\n",
    "#             print(file,f'fold{new_fold}_{file[6:]}')\n",
    "            os.rename(path+file, path+f'fold{new_fold}_{file[6:]}')"
   ]
  },
  {
   "cell_type": "code",
   "execution_count": null,
   "metadata": {},
   "outputs": [],
   "source": []
  }
 ],
 "metadata": {
  "kernelspec": {
   "display_name": "loc",
   "language": "python",
   "name": "loc"
  },
  "language_info": {
   "codemirror_mode": {
    "name": "ipython",
    "version": 3
   },
   "file_extension": ".py",
   "mimetype": "text/x-python",
   "name": "python",
   "nbconvert_exporter": "python",
   "pygments_lexer": "ipython3",
   "version": "3.7.11"
  }
 },
 "nbformat": 4,
 "nbformat_minor": 4
}
