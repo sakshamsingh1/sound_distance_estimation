{
 "cells": [
  {
   "cell_type": "code",
   "execution_count": 1,
   "metadata": {},
   "outputs": [],
   "source": [
    "#imports\n",
    "import os\n",
    "from glob import glob"
   ]
  },
  {
   "cell_type": "code",
   "execution_count": 4,
   "metadata": {},
   "outputs": [],
   "source": [
    "#helper function\n",
    "def load_file(_output_format_file):\n",
    "    _output_dict = {}\n",
    "    _fid = open(_output_format_file, 'r')\n",
    "    # next(_fid)\n",
    "    for _line in _fid:\n",
    "        _words = _line.strip().split(',')\n",
    "        _frame_ind = int(_words[0])\n",
    "        if _frame_ind not in _output_dict:\n",
    "            _output_dict[_frame_ind] = []\n",
    "        if len(_words) == 5: #polar coordinates \n",
    "            _output_dict[_frame_ind].append([int(_words[1]), int(_words[2]), float(_words[3]), float(_words[4])])\n",
    "        elif len(_words) == 6: # cartesian coordinates\n",
    "            _output_dict[_frame_ind].append([int(_words[1]), int(_words[2]), float(_words[3]), float(_words[4]), float(_words[5])])\n",
    "    _fid.close()\n",
    "    return _output_dict\n",
    "\n",
    "\n",
    "def get_zero_and_one_event(events):\n",
    "    miss_frame = 0\n",
    "    one_frame = 0\n",
    "    for frame in range(max(events.keys())+1):\n",
    "        if frame not in events:\n",
    "            miss_frame+=1\n",
    "        elif len(events[frame])==1:\n",
    "            one_frame+=1\n",
    "    return miss_frame, one_frame, max(events.keys())\n",
    "\n",
    "def get_cons_zero(events):\n",
    "    max_cons = 0\n",
    "    cons_0 = 0\n",
    "    for frame in range(max(events.keys())+1):\n",
    "        if frame not in events:\n",
    "            cons_0+=1\n",
    "        else:\n",
    "            max_cons = max(max_cons, cons_0)\n",
    "            cons_0 = 0\n",
    "    return max_cons\n",
    "\n",
    "def get_cons_ov(events):\n",
    "    max_cons = 0\n",
    "    cons_ov = 0\n",
    "    for frame in range(max(events.keys())+1):\n",
    "        if (frame in events) and (len(events[frame])>1):\n",
    "            cons_ov+=1\n",
    "        else:\n",
    "            max_cons = max(max_cons, cons_ov)\n",
    "            cons_ov = 0\n",
    "    return max_cons"
   ]
  },
  {
   "cell_type": "code",
   "execution_count": 3,
   "metadata": {},
   "outputs": [],
   "source": [
    "#variables/constants\n",
    "base_dir = '/vast/sk8974/experiments/dsynth/data/util_data/stars22-23/metadata_dev'\n",
    "train_files = glob(f'{base_dir}/*train*/*.csv')\n",
    "test_files = glob(f'{base_dir}/*test*/*.csv')\n",
    "names = ['train', 'test']\n",
    "folds = [train_files, test_files]"
   ]
  },
  {
   "cell_type": "markdown",
   "metadata": {},
   "source": [
    "### Calculate silences and nonOv"
   ]
  },
  {
   "cell_type": "code",
   "execution_count": 12,
   "metadata": {},
   "outputs": [
    {
     "name": "stdout",
     "output_type": "stream",
     "text": [
      "train 0s:16.24%, 1s:52.7%\n",
      "test 0s:10.39%, 1s:55.2%\n"
     ]
    }
   ],
   "source": [
    "for fold, name in zip(folds, names):\n",
    "    total_zero, total_one, total_frame = 0,0,0\n",
    "    for file in fold:\n",
    "        data = load_file(file)\n",
    "        zero, one, frame = get_zero_and_one_event(data)\n",
    "#         print(zero, one, frame)\n",
    "\n",
    "        total_zero+=zero\n",
    "        total_one+=one\n",
    "        total_frame+=frame\n",
    "        \n",
    "    print(f'{name} 0s:{round(total_zero*100/total_frame,2)}%, 1s:{round(total_one*100/total_frame,2)}%')"
   ]
  },
  {
   "cell_type": "markdown",
   "metadata": {},
   "source": [
    "### longest 0s and overlaps"
   ]
  },
  {
   "cell_type": "code",
   "execution_count": 7,
   "metadata": {},
   "outputs": [
    {
     "name": "stdout",
     "output_type": "stream",
     "text": [
      "train 0s:495, oVs:3838\n",
      "test 0s:163, oVs:1624\n"
     ]
    }
   ],
   "source": [
    "for fold, name in zip(folds, names):\n",
    "    max_0, max_ov = 0, 0\n",
    "    for file in fold:\n",
    "        data = load_file(file)\n",
    "        this_max_0 = get_cons_zero(data)\n",
    "        this_max_ov = get_cons_ov(data)\n",
    "        max_0 = max(max_0, this_max_0)\n",
    "        max_ov = max(max_ov, this_max_ov)        \n",
    "        \n",
    "    print(f'{name} 0s:{max_0}, oVs:{max_ov}')"
   ]
  },
  {
   "cell_type": "markdown",
   "metadata": {},
   "source": [
    "### Plot audios"
   ]
  },
  {
   "cell_type": "code",
   "execution_count": null,
   "metadata": {},
   "outputs": [],
   "source": []
  }
 ],
 "metadata": {
  "kernelspec": {
   "display_name": "dcase",
   "language": "python",
   "name": "dcase"
  },
  "language_info": {
   "codemirror_mode": {
    "name": "ipython",
    "version": 3
   },
   "file_extension": ".py",
   "mimetype": "text/x-python",
   "name": "python",
   "nbconvert_exporter": "python",
   "pygments_lexer": "ipython3",
   "version": "3.9.5"
  }
 },
 "nbformat": 4,
 "nbformat_minor": 4
}
